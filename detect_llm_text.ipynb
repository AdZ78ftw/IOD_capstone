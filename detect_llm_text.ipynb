## URL for comp https://www.kaggle.com/code/chenglin0202/ai-transformer-cnn
