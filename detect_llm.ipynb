{
 "cells": [
  {
   "cell_type": "markdown",
   "metadata": {},
   "source": [
    "# Detect LLM text #\n",
    "\n",
    "### This notebook serves two purposes: ###\n",
    "\n",
    "1. My Capstone project for the course \"Data Science & AI (2024)\" at UTS Institute of Data \n",
    "2. My submission to the Kaggle competition \"LLM - Detect AI Generated Text\" found at https://www.kaggle.com/competitions/llm-detect-ai-generated-text \n",
    "\n",
    "The Kaggle competition was posted just over a year ago (Nov 2023) and has had a very large response from the community: \n",
    "\n",
    "19,362 Entrants\n",
    "5,264 Participants\n",
    "4,358 Teams\n",
    "110,052 Submissions\n",
    "\n",
    "My goal is to get the best possible result from the competition by trying different cutting edge approaches to text classification, as well as making the optimal use of training data itself, e.g. through synthesis and different sources and cleaning strategies. "
   ]
  },
  {
   "cell_type": "code",
   "execution_count": null,
   "metadata": {
    "vscode": {
     "languageId": "plaintext"
    }
   },
   "outputs": [],
   "source": []
  }
 ],
 "metadata": {
  "language_info": {
   "name": "python"
  }
 },
 "nbformat": 4,
 "nbformat_minor": 2
}
