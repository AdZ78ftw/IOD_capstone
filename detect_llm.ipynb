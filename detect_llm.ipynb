{
 "cells": [
  {
   "cell_type": "markdown",
   "metadata": {},
   "source": [
    "# Detect LLM text #\n",
    "\n",
    "### This notebook serves two purposes: ###\n",
    "\n",
    "1. My Capstone project for the course \"Data Science & AI (2024)\" at UTS Institute of Data \n",
    "2. My submission to the Kaggle competition \"LLM - Detect AI Generated Text\" found at https://www.kaggle.com/competitions/llm-detect-ai-generated-text \n",
    "\n",
    "The Kaggle competition was posted just over a year ago (Nov 2023) and has had a very large response from the community: \n",
    "\n",
    "19,362 Entrants\n",
    "5,264 Participants\n",
    "4,358 Teams\n",
    "110,052 Submissions\n",
    "\n",
    "My goal is to get the best possible result from the competition by trying different cutting edge approaches to text classification, as well as making the optimal use of training data itself, e.g. through synthesis and different sources and cleaning strategies. "
   ]
  },
  {
   "cell_type": "markdown",
   "metadata": {},
   "source": [
    "## Data analysis ##"
   ]
  },
  {
   "cell_type": "code",
   "execution_count": 1,
   "metadata": {},
   "outputs": [],
   "source": [
    "import pandas as pd\n",
    "import numpy as np\n",
    "import matplotlib.pyplot as plt"
   ]
  },
  {
   "cell_type": "code",
   "execution_count": null,
   "metadata": {},
   "outputs": [],
   "source": [
    "# Data from the competition\n",
    "\n",
    "train_essays = pd.read_csv('data/comp_data/train_essays.csv')"
   ]
  },
  {
   "cell_type": "code",
   "execution_count": 6,
   "metadata": {},
   "outputs": [
    {
     "data": {
      "text/html": [
       "<div>\n",
       "<style scoped>\n",
       "    .dataframe tbody tr th:only-of-type {\n",
       "        vertical-align: middle;\n",
       "    }\n",
       "\n",
       "    .dataframe tbody tr th {\n",
       "        vertical-align: top;\n",
       "    }\n",
       "\n",
       "    .dataframe thead th {\n",
       "        text-align: right;\n",
       "    }\n",
       "</style>\n",
       "<table border=\"1\" class=\"dataframe\">\n",
       "  <thead>\n",
       "    <tr style=\"text-align: right;\">\n",
       "      <th></th>\n",
       "      <th>id</th>\n",
       "      <th>prompt_id</th>\n",
       "      <th>text</th>\n",
       "      <th>generated</th>\n",
       "    </tr>\n",
       "  </thead>\n",
       "  <tbody>\n",
       "    <tr>\n",
       "      <th>1153</th>\n",
       "      <td>d55ac878</td>\n",
       "      <td>1</td>\n",
       "      <td>Dear, We dont need another voting crisis over ...</td>\n",
       "      <td>0</td>\n",
       "    </tr>\n",
       "    <tr>\n",
       "      <th>1020</th>\n",
       "      <td>b6aa5fd9</td>\n",
       "      <td>1</td>\n",
       "      <td>The Electoral College is a process that has be...</td>\n",
       "      <td>0</td>\n",
       "    </tr>\n",
       "    <tr>\n",
       "      <th>349</th>\n",
       "      <td>44e00070</td>\n",
       "      <td>0</td>\n",
       "      <td>The advantages of limiting car use can help th...</td>\n",
       "      <td>0</td>\n",
       "    </tr>\n",
       "    <tr>\n",
       "      <th>633</th>\n",
       "      <td>75383a8e</td>\n",
       "      <td>1</td>\n",
       "      <td>Dear Senator, I think that Electoral College i...</td>\n",
       "      <td>0</td>\n",
       "    </tr>\n",
       "    <tr>\n",
       "      <th>644</th>\n",
       "      <td>766d1c26</td>\n",
       "      <td>1</td>\n",
       "      <td>Dear state senator, After researching the Elec...</td>\n",
       "      <td>0</td>\n",
       "    </tr>\n",
       "    <tr>\n",
       "      <th>594</th>\n",
       "      <td>7014633b</td>\n",
       "      <td>1</td>\n",
       "      <td>Dear Governor, I believe we need to keep the E...</td>\n",
       "      <td>0</td>\n",
       "    </tr>\n",
       "    <tr>\n",
       "      <th>732</th>\n",
       "      <td>85f97618</td>\n",
       "      <td>1</td>\n",
       "      <td>Dear dumb Republican , The Electoral College i...</td>\n",
       "      <td>0</td>\n",
       "    </tr>\n",
       "    <tr>\n",
       "      <th>24</th>\n",
       "      <td>05665390</td>\n",
       "      <td>1</td>\n",
       "      <td>Dear Florida State Senator, Although many coul...</td>\n",
       "      <td>0</td>\n",
       "    </tr>\n",
       "    <tr>\n",
       "      <th>493</th>\n",
       "      <td>606ec542</td>\n",
       "      <td>0</td>\n",
       "      <td>I think limiting car usage is a great idea for...</td>\n",
       "      <td>0</td>\n",
       "    </tr>\n",
       "    <tr>\n",
       "      <th>371</th>\n",
       "      <td>48cd2f1e</td>\n",
       "      <td>1</td>\n",
       "      <td>Americans throughout the country believe that ...</td>\n",
       "      <td>0</td>\n",
       "    </tr>\n",
       "  </tbody>\n",
       "</table>\n",
       "</div>"
      ],
      "text/plain": [
       "            id  prompt_id                                               text  \\\n",
       "1153  d55ac878          1  Dear, We dont need another voting crisis over ...   \n",
       "1020  b6aa5fd9          1  The Electoral College is a process that has be...   \n",
       "349   44e00070          0  The advantages of limiting car use can help th...   \n",
       "633   75383a8e          1  Dear Senator, I think that Electoral College i...   \n",
       "644   766d1c26          1  Dear state senator, After researching the Elec...   \n",
       "594   7014633b          1  Dear Governor, I believe we need to keep the E...   \n",
       "732   85f97618          1  Dear dumb Republican , The Electoral College i...   \n",
       "24    05665390          1  Dear Florida State Senator, Although many coul...   \n",
       "493   606ec542          0  I think limiting car usage is a great idea for...   \n",
       "371   48cd2f1e          1  Americans throughout the country believe that ...   \n",
       "\n",
       "      generated  \n",
       "1153          0  \n",
       "1020          0  \n",
       "349           0  \n",
       "633           0  \n",
       "644           0  \n",
       "594           0  \n",
       "732           0  \n",
       "24            0  \n",
       "493           0  \n",
       "371           0  "
      ]
     },
     "execution_count": 6,
     "metadata": {},
     "output_type": "execute_result"
    }
   ],
   "source": [
    "train_essays.sample(10)"
   ]
  },
  {
   "cell_type": "code",
   "execution_count": 7,
   "metadata": {},
   "outputs": [
    {
     "data": {
      "text/plain": [
       "(1378, 4)"
      ]
     },
     "execution_count": 7,
     "metadata": {},
     "output_type": "execute_result"
    }
   ],
   "source": [
    "train_essays.shape"
   ]
  },
  {
   "cell_type": "code",
   "execution_count": 12,
   "metadata": {},
   "outputs": [
    {
     "name": "stdout",
     "output_type": "stream",
     "text": [
      "<class 'pandas.core.frame.DataFrame'>\n",
      "RangeIndex: 1378 entries, 0 to 1377\n",
      "Data columns (total 4 columns):\n",
      " #   Column     Non-Null Count  Dtype \n",
      "---  ------     --------------  ----- \n",
      " 0   id         1378 non-null   object\n",
      " 1   prompt_id  1378 non-null   int64 \n",
      " 2   text       1378 non-null   object\n",
      " 3   generated  1378 non-null   int64 \n",
      "dtypes: int64(2), object(2)\n",
      "memory usage: 43.2+ KB\n"
     ]
    }
   ],
   "source": [
    "train_essays.info()"
   ]
  },
  {
   "cell_type": "code",
   "execution_count": 16,
   "metadata": {},
   "outputs": [
    {
     "data": {
      "text/html": [
       "<div>\n",
       "<style scoped>\n",
       "    .dataframe tbody tr th:only-of-type {\n",
       "        vertical-align: middle;\n",
       "    }\n",
       "\n",
       "    .dataframe tbody tr th {\n",
       "        vertical-align: top;\n",
       "    }\n",
       "\n",
       "    .dataframe thead th {\n",
       "        text-align: right;\n",
       "    }\n",
       "</style>\n",
       "<table border=\"1\" class=\"dataframe\">\n",
       "  <thead>\n",
       "    <tr style=\"text-align: right;\">\n",
       "      <th></th>\n",
       "      <th>prompt_id</th>\n",
       "      <th>prompt_name</th>\n",
       "      <th>instructions</th>\n",
       "      <th>source_text</th>\n",
       "    </tr>\n",
       "  </thead>\n",
       "  <tbody>\n",
       "    <tr>\n",
       "      <th>0</th>\n",
       "      <td>0</td>\n",
       "      <td>Car-free cities</td>\n",
       "      <td>Write an explanatory essay to inform fellow ci...</td>\n",
       "      <td># In German Suburb, Life Goes On Without Cars ...</td>\n",
       "    </tr>\n",
       "    <tr>\n",
       "      <th>1</th>\n",
       "      <td>1</td>\n",
       "      <td>Does the electoral college work?</td>\n",
       "      <td>Write a letter to your state senator in which ...</td>\n",
       "      <td># What Is the Electoral College? by the Office...</td>\n",
       "    </tr>\n",
       "  </tbody>\n",
       "</table>\n",
       "</div>"
      ],
      "text/plain": [
       "   prompt_id                       prompt_name  \\\n",
       "0          0                   Car-free cities   \n",
       "1          1  Does the electoral college work?   \n",
       "\n",
       "                                        instructions  \\\n",
       "0  Write an explanatory essay to inform fellow ci...   \n",
       "1  Write a letter to your state senator in which ...   \n",
       "\n",
       "                                         source_text  \n",
       "0  # In German Suburb, Life Goes On Without Cars ...  \n",
       "1  # What Is the Electoral College? by the Office...  "
      ]
     },
     "execution_count": 16,
     "metadata": {},
     "output_type": "execute_result"
    }
   ],
   "source": [
    "# Prompts relevant to the competition\n",
    "\n",
    "prompts = pd.read_csv('data/comp_data/train_prompts.csv')\n",
    "prompts\n"
   ]
  },
  {
   "cell_type": "code",
   "execution_count": 13,
   "metadata": {},
   "outputs": [
    {
     "data": {
      "text/plain": [
       "prompt_id\n",
       "0    708\n",
       "1    670\n",
       "Name: count, dtype: int64"
      ]
     },
     "execution_count": 13,
     "metadata": {},
     "output_type": "execute_result"
    }
   ],
   "source": [
    "# Number of responses to each prompt in competition data \n",
    "\n",
    "train_essays['prompt_id'].value_counts()"
   ]
  },
  {
   "cell_type": "markdown",
   "metadata": {},
   "source": [
    "So: \n",
    "\n",
    "708 x Car-free cities\n",
    "670 x Does the electoral college work?"
   ]
  },
  {
   "cell_type": "code",
   "execution_count": 17,
   "metadata": {},
   "outputs": [
    {
     "data": {
      "text/html": [
       "<div>\n",
       "<style scoped>\n",
       "    .dataframe tbody tr th:only-of-type {\n",
       "        vertical-align: middle;\n",
       "    }\n",
       "\n",
       "    .dataframe tbody tr th {\n",
       "        vertical-align: top;\n",
       "    }\n",
       "\n",
       "    .dataframe thead th {\n",
       "        text-align: right;\n",
       "    }\n",
       "</style>\n",
       "<table border=\"1\" class=\"dataframe\">\n",
       "  <thead>\n",
       "    <tr style=\"text-align: right;\">\n",
       "      <th></th>\n",
       "      <th>text</th>\n",
       "      <th>label</th>\n",
       "      <th>prompt_name</th>\n",
       "      <th>source</th>\n",
       "      <th>RDizzl3_seven</th>\n",
       "    </tr>\n",
       "  </thead>\n",
       "  <tbody>\n",
       "    <tr>\n",
       "      <th>7164</th>\n",
       "      <td>From ballet to yearbook, there are many extrac...</td>\n",
       "      <td>0</td>\n",
       "      <td>Mandatory extracurricular activities</td>\n",
       "      <td>persuade_corpus</td>\n",
       "      <td>False</td>\n",
       "    </tr>\n",
       "    <tr>\n",
       "      <th>7863</th>\n",
       "      <td>Have you ever considered the fact that not man...</td>\n",
       "      <td>0</td>\n",
       "      <td>Mandatory extracurricular activities</td>\n",
       "      <td>persuade_corpus</td>\n",
       "      <td>False</td>\n",
       "    </tr>\n",
       "    <tr>\n",
       "      <th>14042</th>\n",
       "      <td>Picking up trash will be good for the communit...</td>\n",
       "      <td>0</td>\n",
       "      <td>Community service</td>\n",
       "      <td>persuade_corpus</td>\n",
       "      <td>False</td>\n",
       "    </tr>\n",
       "    <tr>\n",
       "      <th>36586</th>\n",
       "      <td>Inactivity has long been associated with negat...</td>\n",
       "      <td>1</td>\n",
       "      <td>Distance learning</td>\n",
       "      <td>mistral7binstruct_v1</td>\n",
       "      <td>False</td>\n",
       "    </tr>\n",
       "    <tr>\n",
       "      <th>28837</th>\n",
       "      <td>When it comes to working with a group, there a...</td>\n",
       "      <td>1</td>\n",
       "      <td>Distance learning</td>\n",
       "      <td>chat_gpt_moth</td>\n",
       "      <td>False</td>\n",
       "    </tr>\n",
       "    <tr>\n",
       "      <th>3139</th>\n",
       "      <td>Certain schools make students complete a summe...</td>\n",
       "      <td>0</td>\n",
       "      <td>Summer projects</td>\n",
       "      <td>persuade_corpus</td>\n",
       "      <td>False</td>\n",
       "    </tr>\n",
       "    <tr>\n",
       "      <th>18504</th>\n",
       "      <td>The idea of driveless cars would be a brillian...</td>\n",
       "      <td>0</td>\n",
       "      <td>Driverless cars</td>\n",
       "      <td>persuade_corpus</td>\n",
       "      <td>True</td>\n",
       "    </tr>\n",
       "    <tr>\n",
       "      <th>3758</th>\n",
       "      <td>As a high school student, school is very stres...</td>\n",
       "      <td>0</td>\n",
       "      <td>Summer projects</td>\n",
       "      <td>persuade_corpus</td>\n",
       "      <td>False</td>\n",
       "    </tr>\n",
       "    <tr>\n",
       "      <th>14357</th>\n",
       "      <td>Dear Principal,\\n\\nEvery student should perfor...</td>\n",
       "      <td>0</td>\n",
       "      <td>Community service</td>\n",
       "      <td>persuade_corpus</td>\n",
       "      <td>False</td>\n",
       "    </tr>\n",
       "    <tr>\n",
       "      <th>6660</th>\n",
       "      <td>Students should be in at least one or more ext...</td>\n",
       "      <td>0</td>\n",
       "      <td>Mandatory extracurricular activities</td>\n",
       "      <td>persuade_corpus</td>\n",
       "      <td>False</td>\n",
       "    </tr>\n",
       "  </tbody>\n",
       "</table>\n",
       "</div>"
      ],
      "text/plain": [
       "                                                    text  label  \\\n",
       "7164   From ballet to yearbook, there are many extrac...      0   \n",
       "7863   Have you ever considered the fact that not man...      0   \n",
       "14042  Picking up trash will be good for the communit...      0   \n",
       "36586  Inactivity has long been associated with negat...      1   \n",
       "28837  When it comes to working with a group, there a...      1   \n",
       "3139   Certain schools make students complete a summe...      0   \n",
       "18504  The idea of driveless cars would be a brillian...      0   \n",
       "3758   As a high school student, school is very stres...      0   \n",
       "14357  Dear Principal,\\n\\nEvery student should perfor...      0   \n",
       "6660   Students should be in at least one or more ext...      0   \n",
       "\n",
       "                                prompt_name                source  \\\n",
       "7164   Mandatory extracurricular activities       persuade_corpus   \n",
       "7863   Mandatory extracurricular activities       persuade_corpus   \n",
       "14042                     Community service       persuade_corpus   \n",
       "36586                     Distance learning  mistral7binstruct_v1   \n",
       "28837                     Distance learning         chat_gpt_moth   \n",
       "3139                        Summer projects       persuade_corpus   \n",
       "18504                       Driverless cars       persuade_corpus   \n",
       "3758                        Summer projects       persuade_corpus   \n",
       "14357                     Community service       persuade_corpus   \n",
       "6660   Mandatory extracurricular activities       persuade_corpus   \n",
       "\n",
       "       RDizzl3_seven  \n",
       "7164           False  \n",
       "7863           False  \n",
       "14042          False  \n",
       "36586          False  \n",
       "28837          False  \n",
       "3139           False  \n",
       "18504           True  \n",
       "3758           False  \n",
       "14357          False  \n",
       "6660           False  "
      ]
     },
     "execution_count": 17,
     "metadata": {},
     "output_type": "execute_result"
    }
   ],
   "source": [
    "# Additional data from https://www.kaggle.com/datasets/thedrcat/daigt-v2-train-dataset/data\n",
    "\n",
    "drcat_02 = pd.read_csv('data/train_v2_drcat_02.csv')\n",
    "drcat_02.sample(10)"
   ]
  },
  {
   "cell_type": "code",
   "execution_count": 10,
   "metadata": {},
   "outputs": [
    {
     "data": {
      "text/plain": [
       "prompt_name\n",
       "Distance learning                        5554\n",
       "Seeking multiple opinions                5176\n",
       "Car-free cities                          4717\n",
       "Does the electoral college work?         4434\n",
       "Facial action coding system              3084\n",
       "Mandatory extracurricular activities     3077\n",
       "Summer projects                          2701\n",
       "Driverless cars                          2250\n",
       "Exploring Venus                          2176\n",
       "Cell phones at school                    2119\n",
       "Grades for extracurricular activities    2116\n",
       "Community service                        2092\n",
       "\"A Cowboy Who Rode the Waves\"            1896\n",
       "The Face on Mars                         1893\n",
       "Phones and driving                       1583\n",
       "Name: count, dtype: int64"
      ]
     },
     "execution_count": 10,
     "metadata": {},
     "output_type": "execute_result"
    }
   ],
   "source": [
    "drcat_02['prompt_name'].value_counts()"
   ]
  },
  {
   "cell_type": "code",
   "execution_count": 25,
   "metadata": {},
   "outputs": [
    {
     "data": {
      "text/html": [
       "<div>\n",
       "<style scoped>\n",
       "    .dataframe tbody tr th:only-of-type {\n",
       "        vertical-align: middle;\n",
       "    }\n",
       "\n",
       "    .dataframe tbody tr th {\n",
       "        vertical-align: top;\n",
       "    }\n",
       "\n",
       "    .dataframe thead th {\n",
       "        text-align: right;\n",
       "    }\n",
       "</style>\n",
       "<table border=\"1\" class=\"dataframe\">\n",
       "  <thead>\n",
       "    <tr style=\"text-align: right;\">\n",
       "      <th></th>\n",
       "      <th>text</th>\n",
       "      <th>label</th>\n",
       "      <th>prompt_name</th>\n",
       "      <th>source</th>\n",
       "      <th>RDizzl3_seven</th>\n",
       "    </tr>\n",
       "  </thead>\n",
       "  <tbody>\n",
       "    <tr>\n",
       "      <th>1168</th>\n",
       "      <td>Cars have been around for awhile and they have...</td>\n",
       "      <td>0</td>\n",
       "      <td>Car-free cities</td>\n",
       "      <td>persuade_corpus</td>\n",
       "      <td>True</td>\n",
       "    </tr>\n",
       "    <tr>\n",
       "      <th>1169</th>\n",
       "      <td>Have you ever thought what it would be like no...</td>\n",
       "      <td>0</td>\n",
       "      <td>Car-free cities</td>\n",
       "      <td>persuade_corpus</td>\n",
       "      <td>True</td>\n",
       "    </tr>\n",
       "    <tr>\n",
       "      <th>1170</th>\n",
       "      <td>What you are about to read is going to give yo...</td>\n",
       "      <td>0</td>\n",
       "      <td>Car-free cities</td>\n",
       "      <td>persuade_corpus</td>\n",
       "      <td>True</td>\n",
       "    </tr>\n",
       "    <tr>\n",
       "      <th>1171</th>\n",
       "      <td>cars have many flaws nd and in this day and ag...</td>\n",
       "      <td>0</td>\n",
       "      <td>Car-free cities</td>\n",
       "      <td>persuade_corpus</td>\n",
       "      <td>True</td>\n",
       "    </tr>\n",
       "    <tr>\n",
       "      <th>1172</th>\n",
       "      <td>There are many advantages of limiting car usag...</td>\n",
       "      <td>0</td>\n",
       "      <td>Car-free cities</td>\n",
       "      <td>persuade_corpus</td>\n",
       "      <td>True</td>\n",
       "    </tr>\n",
       "  </tbody>\n",
       "</table>\n",
       "</div>"
      ],
      "text/plain": [
       "                                                   text  label  \\\n",
       "1168  Cars have been around for awhile and they have...      0   \n",
       "1169  Have you ever thought what it would be like no...      0   \n",
       "1170  What you are about to read is going to give yo...      0   \n",
       "1171  cars have many flaws nd and in this day and ag...      0   \n",
       "1172  There are many advantages of limiting car usag...      0   \n",
       "\n",
       "          prompt_name           source  RDizzl3_seven  \n",
       "1168  Car-free cities  persuade_corpus           True  \n",
       "1169  Car-free cities  persuade_corpus           True  \n",
       "1170  Car-free cities  persuade_corpus           True  \n",
       "1171  Car-free cities  persuade_corpus           True  \n",
       "1172  Car-free cities  persuade_corpus           True  "
      ]
     },
     "execution_count": 25,
     "metadata": {},
     "output_type": "execute_result"
    }
   ],
   "source": [
    "# Isolating only responses relevant to the 2 prompts from the competition \n",
    "\n",
    "daigt_data = drcat_02[\n",
    "    (drcat_02['prompt_name'] == 'Car-free cities') | \n",
    "    (drcat_02['prompt_name'] == 'Does the electoral college work?')\n",
    "]\n",
    "\n",
    "daigt_data.head()"
   ]
  },
  {
   "cell_type": "code",
   "execution_count": 27,
   "metadata": {},
   "outputs": [
    {
     "data": {
      "text/plain": [
       "prompt_name\n",
       "Car-free cities                     4717\n",
       "Does the electoral college work?    4434\n",
       "Name: count, dtype: int64"
      ]
     },
     "execution_count": 27,
     "metadata": {},
     "output_type": "execute_result"
    }
   ],
   "source": [
    "daigt_data['prompt_name'].value_counts()"
   ]
  },
  {
   "cell_type": "code",
   "execution_count": 28,
   "metadata": {},
   "outputs": [
    {
     "data": {
      "text/plain": [
       "source\n",
       "persuade_corpus                       4005\n",
       "kingki19_palm                         1384\n",
       "train_essays                          1378\n",
       "radek_500                              500\n",
       "NousResearch/Llama-2-7b-chat-hf        400\n",
       "mistralai/Mistral-7B-Instruct-v0.1     399\n",
       "llama_70b_v1                           219\n",
       "radekgpt4                              200\n",
       "falcon_180b_v1                         181\n",
       "darragh_claude_v7                      123\n",
       "darragh_claude_v6                      104\n",
       "cohere-command                          99\n",
       "palm-text-bison1                        98\n",
       "mistral7binstruct_v1                    18\n",
       "mistral7binstruct_v2                    16\n",
       "chat_gpt_moth                           15\n",
       "llama2_chat                             12\n",
       "Name: count, dtype: int64"
      ]
     },
     "execution_count": 28,
     "metadata": {},
     "output_type": "execute_result"
    }
   ],
   "source": [
    "daigt_data['source'].value_counts()"
   ]
  },
  {
   "cell_type": "code",
   "execution_count": null,
   "metadata": {},
   "outputs": [],
   "source": [
    "daigt_data"
   ]
  },
  {
   "cell_type": "markdown",
   "metadata": {},
   "source": [
    "Sources (please upvote the original datasets!):\n",
    "\n",
    "Text generated with ChatGPT by MOTH (https://www.kaggle.com/datasets/alejopaullier/daigt-external-dataset)\n",
    "Persuade corpus contributed by Nicholas Broad (https://www.kaggle.com/datasets/nbroad/persaude-corpus-2/)\n",
    "Text generated with Llama-70b and Falcon180b by Nicholas Broad (https://www.kaggle.com/datasets/nbroad/daigt-data-llama-70b-and-falcon180b)\n",
    "Text generated with ChatGPT and GPT4 by Radek (https://www.kaggle.com/datasets/radek1/llm-generated-essays)\n",
    "2000 Claude essays generated by @darraghdog (https://www.kaggle.com/datasets/darraghdog/hello-claude-1000-essays-from-anthropic)\n",
    "LLM-generated essay using PaLM from Google Gen-AI by @kingki19 (https://www.kaggle.com/datasets/kingki19/llm-generated-essay-using-palm-from-google-gen-ai)\n",
    "Official train essays\n",
    "Essays I generated with various LLMs\n",
    "License: MIT for the data I generated. Check source datasets for the other sources mentioned above."
   ]
  },
  {
   "cell_type": "code",
   "execution_count": 29,
   "metadata": {},
   "outputs": [
    {
     "data": {
      "text/plain": [
       "label\n",
       "0    5380\n",
       "1    3771\n",
       "Name: count, dtype: int64"
      ]
     },
     "execution_count": 29,
     "metadata": {},
     "output_type": "execute_result"
    }
   ],
   "source": [
    "daigt_data['label'].value_counts()"
   ]
  },
  {
   "cell_type": "code",
   "execution_count": null,
   "metadata": {},
   "outputs": [
    {
     "name": "stdout",
     "output_type": "stream",
     "text": [
      "label                                  0     1\n",
      "source                                        \n",
      "NousResearch/Llama-2-7b-chat-hf        0   400\n",
      "chat_gpt_moth                          0    15\n",
      "cohere-command                         0    99\n",
      "darragh_claude_v6                      0   104\n",
      "darragh_claude_v7                      0   123\n",
      "falcon_180b_v1                         0   181\n",
      "kingki19_palm                          0  1384\n",
      "llama2_chat                            0    12\n",
      "llama_70b_v1                           0   219\n",
      "mistral7binstruct_v1                   0    18\n",
      "mistral7binstruct_v2                   0    16\n",
      "mistralai/Mistral-7B-Instruct-v0.1     0   399\n",
      "palm-text-bison1                       0    98\n",
      "persuade_corpus                     4005     0\n",
      "radek_500                              0   500\n",
      "radekgpt4                              0   200\n",
      "train_essays                        1375     3\n"
     ]
    }
   ],
   "source": [
    "# Summarise label by source (human = 0, llm = 1)\n",
    "\n",
    "source_counts = pd.pivot_table(daigt_data, index='source', columns='label', aggfunc='size', fill_value=0)\n",
    "\n",
    "print(source_counts)\n"
   ]
  },
  {
   "cell_type": "markdown",
   "metadata": {},
   "source": [
    "TEST TEXT FOR GIT PRACTICE"
   ]
  }
 ],
 "metadata": {
  "kernelspec": {
   "display_name": "Python 3",
   "language": "python",
   "name": "python3"
  },
  "language_info": {
   "codemirror_mode": {
    "name": "ipython",
    "version": 3
   },
   "file_extension": ".py",
   "mimetype": "text/x-python",
   "name": "python",
   "nbconvert_exporter": "python",
   "pygments_lexer": "ipython3",
   "version": "3.12.6"
  }
 },
 "nbformat": 4,
 "nbformat_minor": 2
}
